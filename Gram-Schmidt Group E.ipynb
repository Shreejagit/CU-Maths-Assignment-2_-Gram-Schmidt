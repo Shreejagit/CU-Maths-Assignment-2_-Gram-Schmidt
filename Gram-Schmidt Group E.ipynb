{
 "cells": [
  {
   "cell_type": "code",
   "execution_count": 39,
   "id": "43c00ca6-0378-413d-8421-4aa73850ef54",
   "metadata": {},
   "outputs": [
    {
     "name": "stdout",
     "output_type": "stream",
     "text": [
      "Orthonormal Basis:\n",
      "[1. 0. 0. 0. 0. 0. 0. 0. 0. 0.]\n",
      "[0. 1. 0. 0. 0. 0. 0. 0. 0. 0.]\n",
      "[0. 0. 1. 0. 0. 0. 0. 0. 0. 0.]\n",
      "[0. 0. 0. 1. 0. 0. 0. 0. 0. 0.]\n",
      "Vectors follow the Gram-Schmidt process.\n"
     ]
    }
   ],
   "source": [
    "import numpy as np\n",
    "\n",
    "class GramSchmidt:\n",
    "    def __init__(self, vectors):\n",
    "        \"\"\"\n",
    "        Initializes the GramSchmidt class with input vectors after validation.\n",
    "        \"\"\"\n",
    "        self.vectors = self.validate_vectors(vectors)\n",
    "\n",
    "    def validate_vectors(self, vectors):\n",
    "        \"\"\"\n",
    "        Validates a set of vectors for consistency and requirements.\n",
    "        \"\"\"\n",
    "        vectors = [np.array(vec) for vec in vectors]\n",
    "\n",
    "        if not vectors:\n",
    "            raise ValueError(\"Input vector list is empty.\")\n",
    "\n",
    "        dims = [len(vec) for vec in vectors]\n",
    "        if len(set(dims)) > 1:\n",
    "            raise ValueError(\"All vectors must have the same number of elements.\")\n",
    "\n",
    "        if dims[0] < 10:\n",
    "            raise ValueError(\"All vectors must have at least 10 elements.\")\n",
    "\n",
    "        if dims[0] > 10:\n",
    "            print(\"Warning: Vectors have more than 10 elements. Using the first 10 elements.\")\n",
    "            vectors = [vec[:10] for vec in vectors]\n",
    "\n",
    "        for vec in vectors:\n",
    "            if not np.issubdtype(vec.dtype, np.number):\n",
    "                raise ValueError(\"All vector elements must be numeric.\")\n",
    "\n",
    "        for i, vec in enumerate(vectors):\n",
    "            if np.linalg.norm(vec) == 0:\n",
    "                raise ValueError(f\"Vector {i+1} is a zero vector.\")\n",
    "\n",
    "        seen = set()\n",
    "        for i, vec in enumerate(vectors):\n",
    "            vec_tuple = tuple(vec.tolist())\n",
    "            if vec_tuple in seen:\n",
    "                raise ValueError(f\"Duplicate vector found at index {i+1}.\")\n",
    "            seen.add(vec_tuple)\n",
    "\n",
    "        # Check for linear independence\n",
    "        matrix = np.stack(vectors)\n",
    "        rank = np.linalg.matrix_rank(matrix)\n",
    "        if rank < len(vectors):\n",
    "            raise ValueError(\"The input vectors are not linearly independent.\")\n",
    "\n",
    "        return vectors\n",
    "\n",
    "    def inner_product(self, v, w):\n",
    "        \"\"\"\n",
    "        Computes the inner product of two vectors v and w.\n",
    "        \"\"\"\n",
    "        return np.dot(v, w)\n",
    "\n",
    "    def do_gram_schmidt(self):\n",
    "        \"\"\"\n",
    "        Applies the Gram-Schmidt process to the input vectors.\n",
    "        \"\"\"\n",
    "        orthonormal_basis = []\n",
    "\n",
    "        for v in self.vectors:\n",
    "            w = v.astype(np.float64).copy()\n",
    "            for u in orthonormal_basis:\n",
    "                proj = self.inner_product(v, u) * u\n",
    "                w -= proj\n",
    "            norm = np.linalg.norm(w)\n",
    "            if norm > 1e-10:\n",
    "                orthonormal_basis.append(w / norm)\n",
    "\n",
    "        return orthonormal_basis\n",
    "\n",
    "    def verify_gram_schmidt(self, processed_vectors):\n",
    "        \"\"\"\n",
    "        Verifies if a set of vectors follows the Gram-Schmidt process.\n",
    "        \"\"\"\n",
    "        for i in range(len(processed_vectors)):\n",
    "            for j in range(i + 1, len(processed_vectors)):\n",
    "                dot_product = self.inner_product(processed_vectors[i], processed_vectors[j])\n",
    "                if not np.isclose(dot_product, 0, atol=1e-10):\n",
    "                    return False, \"Vectors are not orthogonal.\"\n",
    "\n",
    "        for vec in processed_vectors:\n",
    "            if not np.isclose(np.linalg.norm(vec), 1, atol=1e-10):\n",
    "                return False, \"Vectors are not normalized.\"\n",
    "\n",
    "        for i, v in enumerate(self.vectors):\n",
    "            reconstructed = np.zeros_like(v, dtype=np.float64)\n",
    "            for u in processed_vectors:\n",
    "                reconstructed += self.inner_product(v, u) * u\n",
    "            if not np.allclose(v, reconstructed, atol=1e-10):\n",
    "                return False, f\"Vector {i+1} does not match its projection.\"\n",
    "\n",
    "        return True, \"Vectors follow the Gram-Schmidt process.\"\n",
    "    \n",
    "# Example usage\n",
    "try:\n",
    "    # Input vectors (each list is a vector)\n",
    "    input_vectors = [\n",
    "        [1, 0, 0, 0, 0, 0, 0, 0, 0, 0],\n",
    "        [1, 1, 0, 0, 0, 0, 0, 0, 0, 0],\n",
    "        [1, 1, 1, 0, 0, 0, 0, 0, 0, 0],\n",
    "        [1, 1, 1, 1, 0, 0, 0, 0, 0, 0]\n",
    "    ]\n",
    "\n",
    "    gs = GramSchmidt(input_vectors)\n",
    "    orthonormal_basis = gs.do_gram_schmidt()\n",
    "\n",
    "    print(\"Orthonormal Basis:\")\n",
    "    for vec in orthonormal_basis:\n",
    "        print(vec)\n",
    "\n",
    "    # Verify the result\n",
    "    valid, message = gs.verify_gram_schmidt(orthonormal_basis)\n",
    "    print(message)\n",
    "\n",
    "except ValueError as e:\n",
    "    print(f\"Error: {e}\")\n"
   ]
  },
  {
   "cell_type": "code",
   "execution_count": 31,
   "id": "8f39f941-84eb-4678-9d47-a9e603151875",
   "metadata": {},
   "outputs": [
    {
     "name": "stdout",
     "output_type": "stream",
     "text": [
      "Error: Input vector list is empty.\n"
     ]
    }
   ],
   "source": [
    "# Example usage\n",
    "try:\n",
    "    # Input vectors (each list is a vector)\n",
    "    input_vectors = []\n",
    "\n",
    "    gs = GramSchmidt(input_vectors)\n",
    "    orthonormal_basis = gs.do_gram_schmidt()\n",
    "\n",
    "    print(\"Orthonormal Basis:\")\n",
    "    for vec in orthonormal_basis:\n",
    "        print(vec)\n",
    "\n",
    "    # Verify the result\n",
    "    valid, message = gs.verify_gram_schmidt(orthonormal_basis)\n",
    "    print(message)\n",
    "\n",
    "except ValueError as e:\n",
    "    print(f\"Error: {e}\")\n"
   ]
  },
  {
   "cell_type": "code",
   "execution_count": 32,
   "id": "ef820f3b-841b-4e3d-8c57-960e5a47c6cc",
   "metadata": {},
   "outputs": [
    {
     "name": "stdout",
     "output_type": "stream",
     "text": [
      "Error: The input vectors are not linearly independent.\n"
     ]
    }
   ],
   "source": [
    "# Example usage\n",
    "try:\n",
    "    # Input vectors (each list is a vector)\n",
    "    input_vectors = [\n",
    "        [1, 2, 3, 4, 5, 6, 7, 8, 9, 10],\n",
    "        [2, 4, 6, 8, 10, 12, 14, 16, 18, 20],\n",
    "        [1, 1, 1, 1, 1, 1, 1, 1, 1, 1]\n",
    "    ]\n",
    "\n",
    "    gs = GramSchmidt(input_vectors)\n",
    "    orthonormal_basis = gs.do_gram_schmidt()\n",
    "\n",
    "    print(\"Orthonormal Basis:\")\n",
    "    for vec in orthonormal_basis:\n",
    "        print(vec)\n",
    "\n",
    "    # Verify the result\n",
    "    valid, message = gs.verify_gram_schmidt(orthonormal_basis)\n",
    "    print(message)\n",
    "\n",
    "except ValueError as e:\n",
    "    print(f\"Error: {e}\")\n"
   ]
  },
  {
   "cell_type": "code",
   "execution_count": 33,
   "id": "10650122-5e7a-4efe-b5d7-4bc254d410c8",
   "metadata": {},
   "outputs": [
    {
     "name": "stdout",
     "output_type": "stream",
     "text": [
      "Error: All vectors must have the same number of elements.\n"
     ]
    }
   ],
   "source": [
    "# Example usage\n",
    "try:\n",
    "    # Input vectors (each list is a vector)\n",
    "    input_vectors = [\n",
    "        [1, 2, 3, 4],\n",
    "        [1, 2, 3]\n",
    "    ]\n",
    "\n",
    "    gs = GramSchmidt(input_vectors)\n",
    "    orthonormal_basis = gs.do_gram_schmidt()\n",
    "\n",
    "    print(\"Orthonormal Basis:\")\n",
    "    for vec in orthonormal_basis:\n",
    "        print(vec)\n",
    "\n",
    "    # Verify the result\n",
    "    valid, message = gs.verify_gram_schmidt(orthonormal_basis)\n",
    "    print(message)\n",
    "\n",
    "except ValueError as e:\n",
    "    print(f\"Error: {e}\")"
   ]
  },
  {
   "cell_type": "code",
   "execution_count": 34,
   "id": "87cbcb62-55c2-4c5a-8eb7-06ec4af27abf",
   "metadata": {},
   "outputs": [
    {
     "name": "stdout",
     "output_type": "stream",
     "text": [
      "Error: All vectors must have at least 10 elements.\n"
     ]
    }
   ],
   "source": [
    "# Example usage\n",
    "try:\n",
    "    # Input vectors (each list is a vector)\n",
    "    input_vectors = [\n",
    "        [1, 2, 3, 4, 5, 6, 7, 8, 9]\n",
    "    ]\n",
    "\n",
    "    gs = GramSchmidt(input_vectors)\n",
    "    orthonormal_basis = gs.do_gram_schmidt()\n",
    "\n",
    "    print(\"Orthonormal Basis:\")\n",
    "    for vec in orthonormal_basis:\n",
    "        print(vec)\n",
    "\n",
    "    # Verify the result\n",
    "    valid, message = gs.verify_gram_schmidt(orthonormal_basis)\n",
    "    print(message)\n",
    "\n",
    "except ValueError as e:\n",
    "    print(f\"Error: {e}\")"
   ]
  },
  {
   "cell_type": "code",
   "execution_count": 35,
   "id": "85a15dbf-fa0d-4a87-968a-ee318e033ab2",
   "metadata": {},
   "outputs": [
    {
     "name": "stdout",
     "output_type": "stream",
     "text": [
      "Error: Vector 2 is a zero vector.\n"
     ]
    }
   ],
   "source": [
    "# Example usage\n",
    "try:\n",
    "    # Input vectors (each list is a vector)\n",
    "    input_vectors = [\n",
    "        [1, 2, 3, 4, 5, 6, 7, 8, 9, 10],\n",
    "        [0, 0, 0, 0, 0, 0, 0, 0, 0, 0]\n",
    "    ]\n",
    "\n",
    "    gs = GramSchmidt(input_vectors)\n",
    "    orthonormal_basis = gs.do_gram_schmidt()\n",
    "\n",
    "    print(\"Orthonormal Basis:\")\n",
    "    for vec in orthonormal_basis:\n",
    "        print(vec)\n",
    "\n",
    "    # Verify the result\n",
    "    valid, message = gs.verify_gram_schmidt(orthonormal_basis)\n",
    "    print(message)\n",
    "\n",
    "except ValueError as e:\n",
    "    print(f\"Error: {e}\")"
   ]
  },
  {
   "cell_type": "code",
   "execution_count": 36,
   "id": "43047d69-e6e1-418a-a503-971a6cb43b1a",
   "metadata": {},
   "outputs": [
    {
     "name": "stdout",
     "output_type": "stream",
     "text": [
      "Error: Duplicate vector found at index 2.\n"
     ]
    }
   ],
   "source": [
    "# Example usage\n",
    "try:\n",
    "    # Input vectors (each list is a vector)\n",
    "    input_vectors = [\n",
    "        [1, 2, 3, 4, 5, 6, 7, 8, 9, 10],\n",
    "        [1, 2, 3, 4, 5, 6, 7, 8, 9, 10]\n",
    "    ]\n",
    "\n",
    "    gs = GramSchmidt(input_vectors)\n",
    "    orthonormal_basis = gs.do_gram_schmidt()\n",
    "\n",
    "    print(\"Orthonormal Basis:\")\n",
    "    for vec in orthonormal_basis:\n",
    "        print(vec)\n",
    "\n",
    "    # Verify the result\n",
    "    valid, message = gs.verify_gram_schmidt(orthonormal_basis)\n",
    "    print(message)\n",
    "\n",
    "except ValueError as e:\n",
    "    print(f\"Error: {e}\")"
   ]
  },
  {
   "cell_type": "code",
   "execution_count": 40,
   "id": "95347ca9-6e59-4039-ad99-545bfda78e65",
   "metadata": {},
   "outputs": [
    {
     "name": "stdout",
     "output_type": "stream",
     "text": [
      "Error: All vector elements must be numeric.\n"
     ]
    }
   ],
   "source": [
    "# Example usage\n",
    "try:\n",
    "    # Input vectors (each list is a vector)\n",
    "    input_vectors = [\n",
    "        [1, 2, 3, 4, 5, 6, 7, 8, 9, \"10\"],\n",
    "        [10, 9, 8, 7, 6, 5, 4, 3, 2, 1]\n",
    "    ]\n",
    "\n",
    "    gs = GramSchmidt(input_vectors)\n",
    "    orthonormal_basis = gs.do_gram_schmidt()\n",
    "\n",
    "    print(\"Orthonormal Basis:\")\n",
    "    for vec in orthonormal_basis:\n",
    "        print(vec)\n",
    "\n",
    "    # Verify the result\n",
    "    valid, message = gs.verify_gram_schmidt(orthonormal_basis)\n",
    "    print(message)\n",
    "\n",
    "except ValueError as e:\n",
    "    print(f\"Error: {e}\")"
   ]
  },
  {
   "cell_type": "code",
   "execution_count": null,
   "id": "0bfffb44-8f04-43be-b82a-960755bf13b2",
   "metadata": {},
   "outputs": [],
   "source": []
  }
 ],
 "metadata": {
  "kernelspec": {
   "display_name": "Python 3 (ipykernel)",
   "language": "python",
   "name": "python3"
  },
  "language_info": {
   "codemirror_mode": {
    "name": "ipython",
    "version": 3
   },
   "file_extension": ".py",
   "mimetype": "text/x-python",
   "name": "python",
   "nbconvert_exporter": "python",
   "pygments_lexer": "ipython3",
   "version": "3.12.6"
  }
 },
 "nbformat": 4,
 "nbformat_minor": 5
}
